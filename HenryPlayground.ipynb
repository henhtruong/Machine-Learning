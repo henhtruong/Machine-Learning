{
  "nbformat": 4,
  "nbformat_minor": 0,
  "metadata": {
    "colab": {
      "name": "HenryPlayground.ipynb",
      "provenance": [],
      "authorship_tag": "ABX9TyPuGlQxB99prjgdZ+IxkhUh",
      "include_colab_link": true
    },
    "kernelspec": {
      "name": "python3",
      "display_name": "Python 3"
    },
    "language_info": {
      "name": "python"
    }
  },
  "cells": [
    {
      "cell_type": "markdown",
      "metadata": {
        "id": "view-in-github",
        "colab_type": "text"
      },
      "source": [
        "<a href=\"https://colab.research.google.com/github/henhtruong/Machine-Learning/blob/main/HenryPlayground.ipynb\" target=\"_parent\"><img src=\"https://colab.research.google.com/assets/colab-badge.svg\" alt=\"Open In Colab\"/></a>"
      ]
    },
    {
      "cell_type": "code",
      "metadata": {
        "id": "l-gTB30VS7kv",
        "colab": {
          "base_uri": "https://localhost:8080/"
        },
        "outputId": "8b05dade-a581-411a-e0ac-6d94ae47b27b"
      },
      "source": [
        "C = [39.2, 36.5, 37.3, 38, 37.8] \n",
        "F = list(map(lambda x: (float(9)/5)*x + 32, C))\n",
        "print(F)"
      ],
      "execution_count": null,
      "outputs": [
        {
          "output_type": "stream",
          "name": "stdout",
          "text": [
            "[102.56, 97.7, 99.14, 100.4, 100.03999999999999]\n"
          ]
        }
      ]
    },
    {
      "cell_type": "code",
      "metadata": {
        "id": "1WzW-L3hS_wl"
      },
      "source": [
        "def fib(n):\n",
        "    \"\"\" Calculates the n-th Fibonacci number iteratively \"\"\"\n",
        "    a, b = 0, 1\n",
        "    for i in range(n):\n",
        "        a, b = b, a + b\n",
        "    return a\n",
        "def fiblist(n):\n",
        "    \"\"\" creates a list of Fibonacci numbers up to the n-th generation \"\"\"\n",
        "    fib = [0,1]\n",
        "    for i in range(1,n):\n",
        "        fib += [fib[-1]+fib[-2]]\n",
        "    return fib"
      ],
      "execution_count": null,
      "outputs": []
    },
    {
      "cell_type": "code",
      "metadata": {
        "colab": {
          "base_uri": "https://localhost:8080/"
        },
        "id": "NBkQPQaO1jrN",
        "outputId": "940a41f5-fe24-4a14-dddf-e5b2cba337a4"
      },
      "source": [
        "fib(10)"
      ],
      "execution_count": null,
      "outputs": [
        {
          "output_type": "execute_result",
          "data": {
            "text/plain": [
              "55"
            ]
          },
          "metadata": {},
          "execution_count": 2
        }
      ]
    },
    {
      "cell_type": "code",
      "metadata": {
        "colab": {
          "base_uri": "https://localhost:8080/"
        },
        "id": "xiNVWaZx1mck",
        "outputId": "bad4a961-36a8-4c8b-b71e-9e1aec737f57"
      },
      "source": [
        "fiblist(10)"
      ],
      "execution_count": null,
      "outputs": [
        {
          "output_type": "execute_result",
          "data": {
            "text/plain": [
              "[0, 1, 1, 2, 3, 5, 8, 13, 21, 34, 55]"
            ]
          },
          "metadata": {},
          "execution_count": 3
        }
      ]
    },
    {
      "cell_type": "code",
      "metadata": {
        "colab": {
          "base_uri": "https://localhost:8080/"
        },
        "id": "jKFytaJ11qc2",
        "outputId": "2568fff0-9d2c-44d0-d8a6-3162babcd845"
      },
      "source": [
        "fiblist(-8)"
      ],
      "execution_count": null,
      "outputs": [
        {
          "output_type": "execute_result",
          "data": {
            "text/plain": [
              "[0, 1]"
            ]
          },
          "metadata": {},
          "execution_count": 4
        }
      ]
    },
    {
      "cell_type": "code",
      "metadata": {
        "colab": {
          "base_uri": "https://localhost:8080/"
        },
        "id": "gQKXk-Ve14oi",
        "outputId": "2b499e74-6bf8-467f-b32a-bb3d26a48753"
      },
      "source": [
        "fib(-1)"
      ],
      "execution_count": null,
      "outputs": [
        {
          "output_type": "execute_result",
          "data": {
            "text/plain": [
              "0"
            ]
          },
          "metadata": {},
          "execution_count": 5
        }
      ]
    },
    {
      "cell_type": "code",
      "metadata": {
        "colab": {
          "base_uri": "https://localhost:8080/"
        },
        "id": "E7d4YU-U2R9o",
        "outputId": "2890a537-35be-4776-8ea3-721ea3f43852"
      },
      "source": [
        "range(-8)"
      ],
      "execution_count": null,
      "outputs": [
        {
          "output_type": "execute_result",
          "data": {
            "text/plain": [
              "range(0, -8)"
            ]
          },
          "metadata": {},
          "execution_count": 6
        }
      ]
    },
    {
      "cell_type": "code",
      "metadata": {
        "colab": {
          "base_uri": "https://localhost:8080/"
        },
        "id": "KdGLLwb82WhD",
        "outputId": "f12994b0-d1ff-4ca3-feed-496ecae73a84"
      },
      "source": [
        "range(8)"
      ],
      "execution_count": null,
      "outputs": [
        {
          "output_type": "execute_result",
          "data": {
            "text/plain": [
              "range(0, 8)"
            ]
          },
          "metadata": {},
          "execution_count": 7
        }
      ]
    },
    {
      "cell_type": "code",
      "metadata": {
        "id": "9BSXQgnY2chP"
      },
      "source": [
        "r = []\n",
        "for i in range(1):\n",
        "  r.append(i)"
      ],
      "execution_count": null,
      "outputs": []
    },
    {
      "cell_type": "code",
      "metadata": {
        "colab": {
          "base_uri": "https://localhost:8080/"
        },
        "id": "xQ8SDGIn3ZeC",
        "outputId": "a30fe1a3-6471-4704-e6a6-6d36f6e12c3a"
      },
      "source": [
        "r"
      ],
      "execution_count": null,
      "outputs": [
        {
          "output_type": "execute_result",
          "data": {
            "text/plain": [
              "[0]"
            ]
          },
          "metadata": {},
          "execution_count": 30
        }
      ]
    },
    {
      "cell_type": "code",
      "metadata": {
        "id": "bSki1u1S3nmN"
      },
      "source": [
        "a = [1, 2, 3, 4]\n",
        "b = [5,6,7,8]\n",
        "\n"
      ],
      "execution_count": null,
      "outputs": []
    },
    {
      "cell_type": "code",
      "metadata": {
        "colab": {
          "base_uri": "https://localhost:8080/"
        },
        "id": "AZ9JPAk153gB",
        "outputId": "b1bac81a-cbe0-4157-f8b3-527174bfd7da"
      },
      "source": [
        "a"
      ],
      "execution_count": null,
      "outputs": [
        {
          "output_type": "execute_result",
          "data": {
            "text/plain": [
              "[1, 2, 3, 4]"
            ]
          },
          "metadata": {},
          "execution_count": 5
        }
      ]
    },
    {
      "cell_type": "code",
      "metadata": {
        "id": "d2DQMs-l55Pi"
      },
      "source": [
        "a.extend(b)"
      ],
      "execution_count": null,
      "outputs": []
    },
    {
      "cell_type": "code",
      "metadata": {
        "colab": {
          "base_uri": "https://localhost:8080/"
        },
        "id": "7JgnbsHH6BvM",
        "outputId": "8f2092af-ef54-4e39-ac81-f108f0b4b0ca"
      },
      "source": [
        "a"
      ],
      "execution_count": null,
      "outputs": [
        {
          "output_type": "execute_result",
          "data": {
            "text/plain": [
              "[1, 2, 3, 4, 5, 6, 7, 8]"
            ]
          },
          "metadata": {},
          "execution_count": 7
        }
      ]
    },
    {
      "cell_type": "code",
      "metadata": {
        "id": "bT_gXymi6LfO"
      },
      "source": [
        "a.clear()"
      ],
      "execution_count": null,
      "outputs": []
    },
    {
      "cell_type": "code",
      "metadata": {
        "id": "v2qu-hcP6YFS",
        "colab": {
          "base_uri": "https://localhost:8080/"
        },
        "outputId": "302c3219-b328-42a9-ba81-d9bb9b1a1f75"
      },
      "source": [
        "a"
      ],
      "execution_count": null,
      "outputs": [
        {
          "output_type": "execute_result",
          "data": {
            "text/plain": [
              "[]"
            ]
          },
          "metadata": {},
          "execution_count": 9
        }
      ]
    },
    {
      "cell_type": "code",
      "metadata": {
        "id": "Y-KH8o-26Ywv",
        "colab": {
          "base_uri": "https://localhost:8080/"
        },
        "outputId": "69399f15-a86e-48b7-a079-f489cdd2d434"
      },
      "source": [
        "2**11"
      ],
      "execution_count": 1,
      "outputs": [
        {
          "output_type": "execute_result",
          "data": {
            "text/plain": [
              "2048"
            ]
          },
          "metadata": {},
          "execution_count": 1
        }
      ]
    },
    {
      "cell_type": "code",
      "metadata": {
        "colab": {
          "base_uri": "https://localhost:8080/"
        },
        "id": "x40EWGjkpDMB",
        "outputId": "6ff250b8-08a5-4682-ddd8-366d307865bb"
      },
      "source": [
        "models = [{'make':'Nokia', 'model':216, 'color':'Black'}, {'make':'Mi Max', 'model':'2', 'color':'Gold'}, {'make':'Samsung', 'model': 7, 'color':'Blue'}]\n",
        "print(\"Original list of dictionaries :\")\n",
        "print(models)\n",
        "sorted_models = sorted(models, key = lambda x: x['color'])\n",
        "print(\"\\nSorting the List of dictionaries :\")\n",
        "print(sorted_models)"
      ],
      "execution_count": 1,
      "outputs": [
        {
          "output_type": "stream",
          "name": "stdout",
          "text": [
            "Original list of dictionaries :\n",
            "[{'make': 'Nokia', 'model': 216, 'color': 'Black'}, {'make': 'Mi Max', 'model': '2', 'color': 'Gold'}, {'make': 'Samsung', 'model': 7, 'color': 'Blue'}]\n",
            "\n",
            "Sorting the List of dictionaries :\n",
            "[{'make': 'Nokia', 'model': 216, 'color': 'Black'}, {'make': 'Samsung', 'model': 7, 'color': 'Blue'}, {'make': 'Mi Max', 'model': '2', 'color': 'Gold'}]\n"
          ]
        }
      ]
    },
    {
      "cell_type": "code",
      "metadata": {
        "colab": {
          "base_uri": "https://localhost:8080/"
        },
        "id": "kNed1VnuCiOZ",
        "outputId": "32aa6b4b-aabf-46c8-a292-3c5c53e5be8c"
      },
      "source": [
        "models"
      ],
      "execution_count": 2,
      "outputs": [
        {
          "output_type": "execute_result",
          "data": {
            "text/plain": [
              "[{'color': 'Black', 'make': 'Nokia', 'model': 216},\n",
              " {'color': 'Gold', 'make': 'Mi Max', 'model': '2'},\n",
              " {'color': 'Blue', 'make': 'Samsung', 'model': 7}]"
            ]
          },
          "metadata": {},
          "execution_count": 2
        }
      ]
    },
    {
      "cell_type": "code",
      "metadata": {
        "colab": {
          "base_uri": "https://localhost:8080/"
        },
        "id": "QXYNFZT_CuJY",
        "outputId": "085d8ec5-8bf7-48e3-bc8a-71b7ca4dbd12"
      },
      "source": [
        "models == sorted_models"
      ],
      "execution_count": 4,
      "outputs": [
        {
          "output_type": "execute_result",
          "data": {
            "text/plain": [
              "False"
            ]
          },
          "metadata": {},
          "execution_count": 4
        }
      ]
    },
    {
      "cell_type": "code",
      "metadata": {
        "colab": {
          "base_uri": "https://localhost:8080/"
        },
        "id": "14BLydkmC97j",
        "outputId": "780b8b1b-3d51-4945-b5b6-e921234204f4"
      },
      "source": [
        ">>> class Student:\n",
        "...     def __init__(self, name, grade, age):\n",
        "...         self.name = name\n",
        "...         self.grade = grade\n",
        "...         self.age = age\n",
        "...     def __repr__(self):\n",
        "...         return repr((self.name, self.grade, self.age))\n",
        "\n",
        ">>> student_objects = [\n",
        "...     Student('john', 'A', 15),\n",
        "...     Student('jane', 'B', 12),\n",
        "...     Student('dave', 'B', 10),\n",
        "... ]\n",
        ">>> sorted(student_objects, key=lambda student: student.age)   # sort by age\n",
        "[('dave', 'B', 10), ('jane', 'B', 12), ('john', 'A', 15)]"
      ],
      "execution_count": 5,
      "outputs": [
        {
          "output_type": "execute_result",
          "data": {
            "text/plain": [
              "[('dave', 'B', 10), ('jane', 'B', 12), ('john', 'A', 15)]"
            ]
          },
          "metadata": {},
          "execution_count": 5
        }
      ]
    },
    {
      "cell_type": "markdown",
      "metadata": {
        "id": "9VjsmFQ-EfqO"
      },
      "source": [
        "# Operator Module Functions:\n",
        "The key-function patterns shown above are very common, so Python provides convenience functions to make accessor functions easier and faster. The operator module has itemgetter(), attrgetter(), and a methodcaller() function.\n",
        "\n",
        "Using those functions, the above examples become simpler and faster:"
      ]
    }
  ]
}